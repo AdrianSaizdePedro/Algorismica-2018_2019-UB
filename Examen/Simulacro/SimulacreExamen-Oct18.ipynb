{
 "cells": [
  {
   "cell_type": "markdown",
   "metadata": {},
   "source": [
    "# Simulacre d'examen. Octubre 2018"
   ]
  },
  {
   "cell_type": "markdown",
   "metadata": {},
   "source": [
    "Donat un string, fes un programa que retorni:\n",
    "+ El nombre de paraules de l'string.\n",
    "+ El nombre de paraules que només surten una vegada a l'string.\n",
    "+ El nombre de paraules diferents que hi ha a l'string. "
   ]
  },
  {
   "cell_type": "code",
   "execution_count": 9,
   "metadata": {},
   "outputs": [
    {
     "data": {
      "text/plain": [
       "(8, 4, 6)"
      ]
     },
     "execution_count": 9,
     "metadata": {},
     "output_type": "execute_result"
    }
   ],
   "source": [
    "def compta(s):\n",
    "    pass\n",
    "\n",
    "s = 'les cases del poble són cases deshabitades deshabitades'\n",
    "compta(s)"
   ]
  }
 ],
 "metadata": {
  "kernelspec": {
   "display_name": "Python 3",
   "language": "python",
   "name": "python3"
  },
  "language_info": {
   "codemirror_mode": {
    "name": "ipython",
    "version": 3
   },
   "file_extension": ".py",
   "mimetype": "text/x-python",
   "name": "python",
   "nbconvert_exporter": "python",
   "pygments_lexer": "ipython3",
   "version": "3.6.5"
  }
 },
 "nbformat": 4,
 "nbformat_minor": 2
}
