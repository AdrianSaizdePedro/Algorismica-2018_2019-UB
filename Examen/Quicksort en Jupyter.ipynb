{
 "cells": [
  {
   "cell_type": "markdown",
   "metadata": {},
   "source": [
    "Algorisme Quicksort"
   ]
  },
  {
   "cell_type": "code",
   "execution_count": 11,
   "metadata": {},
   "outputs": [],
   "source": [
    "'''\n",
    "Donada la llista A un cop apliquem la funció quicksort la llista que vam passar queda ordenada. \n",
    "Es pot comprovar a l'exemple de debaix.\n",
    "'''\n",
    "def quick_sort(A):\n",
    "        quick_sort_r(A, 0, len(A) - 1)    # quicksort_r té més paràmetres per \n",
    "                                          # facilitar les crides recursives\n",
    "                                          # Com la primera subllista és la llista complerta\n",
    "                                          #llavors first=0 i last=len(A)-1 = últim índex possible\n",
    "'''\n",
    "Funció auxiliar que aplica de forma recursiva l'algorisme Quicksort. Els paràmetres d'entrada són:\n",
    "A: La llista a ordenar, complerta\n",
    "first: Quan particionem en subllistes, és l'índex corresponent al primer índex de la subllista que volem\n",
    "ordenar\n",
    "last: El mateix però ara l'últim index\n",
    "'''\n",
    "def quick_sort_r(A , first, last):        # A és la llista, first i last els índexs                                           # entre els quals cal ordenar\n",
    "    if last > first: #Comprovem que les subllistes no són trivials, és a dir, que no tenen 0 o 1 elements, i \n",
    "                     #llavors si no ho són apliquem l'algorisme de particions\n",
    "        pivot = partition(A, first, last) # dividim el problema\n",
    "        quick_sort_r(A, first, pivot - 1) # ordenem part esquerra\n",
    "        quick_sort_r(A, pivot + 1, last)  # ordenem part dreta\n",
    "    "
   ]
  },
  {
   "cell_type": "code",
   "execution_count": 8,
   "metadata": {},
   "outputs": [],
   "source": [
    "def partition(A, first, last): \n",
    "    \n",
    "    # ordenem els tres elements A[first],A[mid],A[last]\n",
    "    mid = (first + last)//2\n",
    "    if A[first] > A [mid]: A[first], A[mid] = A[mid], A[first]\n",
    "    if A[first] > A [last]: A[first], A[last] = A[last], A[first]\n",
    "    if A[mid] > A[last]:   A[mid], A[last] = A[last], A[mid]  \n",
    "    A[mid], A[first] = A[first], A[mid] \n",
    "# inicialitzem pivot, i i j\n",
    "    pivot = first\n",
    "    i = first + 1\n",
    "    j = last\n",
    "    while True:\n",
    "        # anem avançant\n",
    "        while i <= last and A[i] <= A[pivot]: i += 1 #Anem cap a la dreta mentre que no\n",
    "                                                     #els índexos no siguin iguals o s'incompleixi\n",
    "                                                     #la condició de partició, que l'element sigui \n",
    "                                                     #més petit que el pivot\n",
    "        while j >= first and A[j] > A[pivot]: j -= 1 #El mateix però anant cap a la esquerra\n",
    "                                                     #i mirant que s'incompleixi que lélement sigui més gran\n",
    "                                                     #que el pivot\n",
    "        if i >= j: break\n",
    "        else:\n",
    "            A[i], A[j] = A[j], A[i] # intercanviem, fem avançar i j\n",
    "    A[j], A[pivot] = A[pivot], A[j] # Quan acabem de iterar canviem el pivot amb l'element en què \n",
    "                                    #els dos indexos són iguals\n",
    "    return j"
   ]
  },
  {
   "cell_type": "code",
   "execution_count": 10,
   "metadata": {},
   "outputs": [
    {
     "name": "stdout",
     "output_type": "stream",
     "text": [
      "[1, 2, 3, 4, 7, 80]\n"
     ]
    }
   ],
   "source": [
    "A = [3,7,2,4,1,80]\n",
    "quick_sort(A)\n",
    "print(A)"
   ]
  },
  {
   "cell_type": "code",
   "execution_count": 14,
   "metadata": {},
   "outputs": [
    {
     "name": "stdout",
     "output_type": "stream",
     "text": [
      "[1, 2, 3, 97, 98, 99]\n"
     ]
    }
   ],
   "source": [
    "B = [99,1,98,2,97,3]\n",
    "quick_sort(B)\n",
    "print(B)"
   ]
  },
  {
   "cell_type": "code",
   "execution_count": null,
   "metadata": {},
   "outputs": [],
   "source": []
  }
 ],
 "metadata": {
  "kernelspec": {
   "display_name": "Python 3",
   "language": "python",
   "name": "python3"
  },
  "language_info": {
   "codemirror_mode": {
    "name": "ipython",
    "version": 3
   },
   "file_extension": ".py",
   "mimetype": "text/x-python",
   "name": "python",
   "nbconvert_exporter": "python",
   "pygments_lexer": "ipython3",
   "version": "3.7.1"
  }
 },
 "nbformat": 4,
 "nbformat_minor": 2
}
