{
 "cells": [
  {
   "cell_type": "markdown",
   "metadata": {},
   "source": [
    "<p style=\"text-align:right;font-size:0.9em\">\n",
    "Grau d'Enginyeria Informàtica. Algorísmica\n",
    "</p>"
   ]
  },
  {
   "cell_type": "markdown",
   "metadata": {},
   "source": [
    "<h1 style=\"padding:0.5em 0;font:Garamond;font-size:1-5em;color:#F90;background-color:#005\">\n",
    "Problema: Anagrames\n",
    "</h1>"
   ]
  },
  {
   "cell_type": "markdown",
   "metadata": {},
   "source": [
    "Implementa el següent algorisme per saber si dues paraules formades per lletres del conjunt ``abcdefghijklmnopqrstuvyz`` són anagrames (tenen les mateixes lletres):\n",
    "\n",
    "+ Associa cada una de les lletres de l'alfabet a un nombre primer.\n",
    "+ Multiplica els caràcters de cada paraula per obtenir un enter. \n",
    "\n",
    "Com que cada enter és un primer o un producte únic de primers, aquest enter només es repetirà per les paraules que tenen les mateixes lletres (anagrames). "
   ]
  },
  {
   "cell_type": "code",
   "execution_count": 22,
   "metadata": {},
   "outputs": [
    {
     "name": "stdout",
     "output_type": "stream",
     "text": [
      "True\n",
      "False\n",
      "False\n",
      "False\n",
      "True\n"
     ]
    }
   ],
   "source": [
    "# Resposta\n",
    "def primers(n):\n",
    "    llista = []\n",
    "    num = 2\n",
    "    \n",
    "    while len(llista)<n:\n",
    "        contador1 = 0\n",
    "        for i in range (2,num):\n",
    "            if (num%i)==0:\n",
    "                contador1 += 1\n",
    "        if contador1==0:\n",
    "            llista.append(num)\n",
    "        num+=1\n",
    "    return llista\n",
    "\n",
    "    \n",
    "def anagrama(a,b):\n",
    "    dic = {}\n",
    "    abecedario = \"abcdefghijklmnopqrstuvyz\"\n",
    "    \n",
    "    #Crea un diccionario que relaciona las letras con numeros primos\n",
    "    llista = primers(len(abecedario))\n",
    "    j = 0\n",
    "    for i in abecedario:\n",
    "        dic[i]=llista[j]\n",
    "        j += 1\n",
    "        \n",
    "    #Crea los numeros en función de la lista    \n",
    "    num1 = 1\n",
    "    for i in a:\n",
    "        num1 = num1 * dic[i]\n",
    "    \n",
    "    num2 = 1\n",
    "    for i in b:\n",
    "        num2 = num2 * dic[i]\n",
    "        \n",
    "        \n",
    "    #Compara si son anagrama    \n",
    "    if ((num1 == num2) and (num1!=1 and num2!=0)):\n",
    "        return True\n",
    "\n",
    "    else:\n",
    "        return False\n",
    "\n",
    "\n",
    "print(anagrama('ana', 'naa')) # Hauria de retornar True\n",
    "print(anagrama('ana', 'nat')) # Hauria de retornar False\n",
    "print(anagrama('ana', 'anna')) # Hauria de retornar False\n",
    "print(anagrama('alna', 'anna'))\n",
    "print(anagrama('anssnnsa', 'snannass'))"
   ]
  },
  {
   "cell_type": "markdown",
   "metadata": {},
   "source": [
    "<p style=\"text-align:right;font-size:0.9em\">\n",
    "&copy;Jordi Vitrià i Mireia Ribera\n",
    "</p>"
   ]
  }
 ],
 "metadata": {
  "kernelspec": {
   "display_name": "Python 3",
   "language": "python",
   "name": "python3"
  },
  "language_info": {
   "codemirror_mode": {
    "name": "ipython",
    "version": 3
   },
   "file_extension": ".py",
   "mimetype": "text/x-python",
   "name": "python",
   "nbconvert_exporter": "python",
   "pygments_lexer": "ipython3",
   "version": "3.7.0"
  }
 },
 "nbformat": 4,
 "nbformat_minor": 2
}
