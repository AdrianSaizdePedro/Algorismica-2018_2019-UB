{
 "cells": [
  {
   "cell_type": "markdown",
   "metadata": {},
   "source": [
    "<p style=\"text-align:right;font-size:0.9em\">\n",
    "Grau d'Enginyeria Informàtica. Algorísmica\n",
    "</p>"
   ]
  },
  {
   "cell_type": "markdown",
   "metadata": {},
   "source": [
    "<h1 style=\"padding:0.5em 0;font:Garamond;font-size:1-5em;color:#F90;background-color:#005\">\n",
    "Problema: Test primeritat\n",
    "</h1>"
   ]
  },
  {
   "cell_type": "markdown",
   "metadata": {},
   "source": [
    "Escriu una funció factorp que comprovi si un determinat nombre  n  és primer mitjançant la tècnica de la factorització i que imprimeixi quant temps ha trigat en calcular-ho (podeu usar el mètode explicat a http://www.purplemath.com/modules/factnumb.htm)."
   ]
  },
  {
   "cell_type": "code",
   "execution_count": 27,
   "metadata": {},
   "outputs": [
    {
     "name": "stdout",
     "output_type": "stream",
     "text": [
      "<module 'time' (built-in)>\n"
     ]
    }
   ],
   "source": [
    "t2 = time\n",
    "print(t2)"
   ]
  },
  {
   "cell_type": "code",
   "execution_count": 35,
   "metadata": {},
   "outputs": [],
   "source": [
    "# Substitueix la comanda pass pel teu codi\n",
    "import math\n",
    "import timeit\n",
    "def factorp(N):\n",
    "    t1 = timeit.default_timer()\n",
    "    contador1 = 0\n",
    "    for i in range (2,N):\n",
    "        if (N%i)==0:\n",
    "            print(timeit.default_timer()-t1)\n",
    "            return False\n",
    "    print(timeit.default_timer()-t1)\n",
    "    return True\n",
    "    "
   ]
  },
  {
   "cell_type": "code",
   "execution_count": 41,
   "metadata": {},
   "outputs": [
    {
     "name": "stdout",
     "output_type": "stream",
     "text": [
      "7.4049985414603725e-06\n"
     ]
    },
    {
     "data": {
      "text/plain": [
       "True"
      ]
     },
     "execution_count": 41,
     "metadata": {},
     "output_type": "execute_result"
    }
   ],
   "source": [
    "# Test de la funció\n",
    "factorp(7) #aquest exemple hauria de retornar (True, 5.13e-06) \n",
    "# el temps pot sortir lleugerament diferent i amb més decimals\n"
   ]
  },
  {
   "cell_type": "code",
   "execution_count": 43,
   "metadata": {},
   "outputs": [
    {
     "name": "stdout",
     "output_type": "stream",
     "text": [
      "7.052000000840053e-06\n"
     ]
    },
    {
     "data": {
      "text/plain": [
       "True"
      ]
     },
     "execution_count": 43,
     "metadata": {},
     "output_type": "execute_result"
    }
   ],
   "source": [
    "# Test de la funció\n",
    "factorp(3) #aquest exemple hauria de retornar (True, 4.7e-06) \n",
    "# el temps pot sortir lleugerament diferent i amb més decimals"
   ]
  },
  {
   "cell_type": "markdown",
   "metadata": {},
   "source": [
    "## Pregunta 1\n",
    "Escriu una funció, ``fermatp``, que comprovi si un determinat nombre $n$ és primer mitjançant la tècnica de Fermat amb valors $a=2, 3,  5$ (veure apunts de teoria). La funció ha d’escriure al final del test si és un nombre primer i el temps invertit en el càlcul."
   ]
  },
  {
   "cell_type": "code",
   "execution_count": 53,
   "metadata": {},
   "outputs": [],
   "source": [
    "# Substitueix la comanda pass pel teu codi\n",
    "\n",
    "import timeit\n",
    "def fermatp(N):\n",
    "    t1 = timeit.default_timer()\n",
    "    a = [2,3,5]\n",
    "    for i in a:\n",
    "        if (((i**N)-i)%N==0):\n",
    "            print(timeit.default_timer()-t1)\n",
    "            return True\n",
    "    print(timeit.default_timer()-t1)\n",
    "    return False"
   ]
  },
  {
   "cell_type": "code",
   "execution_count": 54,
   "metadata": {},
   "outputs": [
    {
     "name": "stdout",
     "output_type": "stream",
     "text": [
      "1.0226000085822307e-05\n"
     ]
    },
    {
     "data": {
      "text/plain": [
       "True"
      ]
     },
     "execution_count": 54,
     "metadata": {},
     "output_type": "execute_result"
    }
   ],
   "source": [
    "# Test de la funció\n",
    "fermatp(19) #aquest exemple hauria de retornar (True, 1.49e-05)\n",
    "# el temps pot sortir lleugerament diferent i amb més decimals"
   ]
  },
  {
   "cell_type": "markdown",
   "metadata": {},
   "source": [
    "<p style=\"text-align:right;font-size:0.9em\">\n",
    "&copy;Jordi Vitrià i Mireia Ribera\n",
    "</p>"
   ]
  }
 ],
 "metadata": {
  "kernelspec": {
   "display_name": "Python 3",
   "language": "python",
   "name": "python3"
  },
  "language_info": {
   "codemirror_mode": {
    "name": "ipython",
    "version": 3
   },
   "file_extension": ".py",
   "mimetype": "text/x-python",
   "name": "python",
   "nbconvert_exporter": "python",
   "pygments_lexer": "ipython3",
   "version": "3.7.0"
  }
 },
 "nbformat": 4,
 "nbformat_minor": 2
}
