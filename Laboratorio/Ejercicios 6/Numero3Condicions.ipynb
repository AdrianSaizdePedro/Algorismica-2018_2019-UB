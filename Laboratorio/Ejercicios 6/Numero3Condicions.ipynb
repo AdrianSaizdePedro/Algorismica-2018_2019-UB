{
 "cells": [
  {
   "cell_type": "markdown",
   "metadata": {},
   "source": [
    "<p style=\"text-align:right;font-size:0.9em\">\n",
    "Grau d'Enginyeria Informàtica. Algorísmica\n",
    "</p>"
   ]
  },
  {
   "cell_type": "markdown",
   "metadata": {},
   "source": [
    "<h1 style=\"padding:0.5em 0;font:Garamond;font-size:1-5em;color:#F90;background-color:#005\">\n",
    "Problema: Nombre n que compleix tres condicions\n",
    "</h1>"
   ]
  },
  {
   "cell_type": "markdown",
   "metadata": {},
   "source": [
    "<p style=\"font-family:Arial;font-size:1em\">\n",
    "Fes una funció que trobi el nombre $n$  més gran tal que compleixi les següents tres condicions\n",
    "    - $n<10000$, \n",
    "    - $n=m*m$ per algun $m$ \n",
    "    - $n=k!+1$ per algun $k$\n",
    "</p>"
   ]
  },
  {
   "cell_type": "code",
   "execution_count": 27,
   "metadata": {},
   "outputs": [
    {
     "name": "stdout",
     "output_type": "stream",
     "text": [
      "True\n",
      "True\n"
     ]
    }
   ],
   "source": [
    "print(5041%math.sqrt(5041)==0)\n",
    "print(25%math.sqrt(25)==0)"
   ]
  },
  {
   "cell_type": "code",
   "execution_count": 34,
   "metadata": {
    "scrolled": true
   },
   "outputs": [
    {
     "name": "stdout",
     "output_type": "stream",
     "text": [
      "El numero maximo es 5041\n"
     ]
    },
    {
     "data": {
      "text/plain": [
       "5041"
      ]
     },
     "execution_count": 34,
     "metadata": {},
     "output_type": "execute_result"
    }
   ],
   "source": [
    "import math\n",
    "def numero3condicions():\n",
    "    #Como el factorial de un numero se dispara al infinito muy rapido, el while será pequeño y  la lista será pequeña también\n",
    "    l = 1\n",
    "    contador = 2\n",
    "    llista = []\n",
    "    while l<10000:\n",
    "        n = l+1\n",
    "        llista.append(n)\n",
    "        l = l * contador\n",
    "        contador += 1\n",
    "        \n",
    "    llista2 = []\n",
    "    for i in llista:\n",
    "        if i%math.sqrt(i)==0:\n",
    "            llista2.append(i)\n",
    "    if len(llista2)==0:\n",
    "        print(\"No existe ninguno\")\n",
    "    else:\n",
    "        print (\"El numero maximo es\", max(llista2))\n",
    "    return  max(llista2)\n",
    "        \n",
    "numero3condicions()\n"
   ]
  },
  {
   "cell_type": "markdown",
   "metadata": {},
   "source": [
    "<p style=\"text-align:right;font-size:0.9em\">\n",
    "&copy;Jordi Vitrià i Mireia Ribera\n",
    "</p>"
   ]
  }
 ],
 "metadata": {
  "kernelspec": {
   "display_name": "Python 3",
   "language": "python",
   "name": "python3"
  },
  "language_info": {
   "codemirror_mode": {
    "name": "ipython",
    "version": 3
   },
   "file_extension": ".py",
   "mimetype": "text/x-python",
   "name": "python",
   "nbconvert_exporter": "python",
   "pygments_lexer": "ipython3",
   "version": "3.7.0"
  }
 },
 "nbformat": 4,
 "nbformat_minor": 2
}
