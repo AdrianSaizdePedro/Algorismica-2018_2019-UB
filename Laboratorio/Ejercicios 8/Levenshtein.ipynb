{
 "cells": [
  {
   "cell_type": "markdown",
   "metadata": {},
   "source": [
    "<p style=\"text-align:right;font-size:0.9em\">\n",
    "Grau d'Enginyeria Informàtica. Algorísmica\n",
    "</p>"
   ]
  },
  {
   "cell_type": "markdown",
   "metadata": {},
   "source": [
    "<h1 style=\"padding:0.5em 0;font:Garamond;font-size:1-5em;color:#F90;background-color:#005\">\n",
    "Problema: Levenshtein\n",
    "</h1>"
   ]
  },
  {
   "cell_type": "markdown",
   "metadata": {},
   "source": [
    "## Introducció\n",
    "\n",
    "Una seqüència genètica és un string format per caràcters d’un alfabet de quatre lletres: ``A, T, G`` i ``C``, que corresponen a les macromolècules base de l’ADN. Un gen és una seqüència genètica que conté la informació necessària per construir una proteïna. La unió de tots els gens constitueixen el genoma. \n",
    "\n",
    "Cada cèl•lula produïda pel cos rep una còpia del genoma, però a vegades, aquesta còpia és lleugerament “defectuosa”. Els “defectes” van des de la substitució d’una base per una altra fins a la pèrdua d’un substring de la seqüència. \n",
    "\n",
    "+ Baixa't el fitxer HUMAN-DNA.txt al teu directori. \n",
    "\n",
    "Aquest fitxer conté una part del ADN del cromosoma 2 humà.\n",
    "\n",
    "## Pregunta 1\n",
    "\n",
    "+ Fes una funció, anomenada ``dna``, basada en l’algorisme de Levenshtein, que busqui dins de **cada una de les línies del fitxer anterior** les següents seqüències genètiques i digui a quina línia les ha trobat amb mínima distància i quina és aquesta distància (si està a varies línies, que indiqui la primera línia en la que apareix a distància mínima):\n",
    "\n",
    "        AGATACATTAGAACAATAGAGATGTGGTC\n",
    "        GTCAGTCTGGCACTTGCCATTGGTGCCACCA\n",
    "        TACCGAGAAGCATGGATTACAGCATGTACCATCAT\n",
    "        \n",
    "Al fer-ho, has de tenir en compte que a les aplicacions bioinformàtiques, els costos de les operacions d’edició són lleugerament diferents de les que hem vist fins ara:\n",
    "\n",
    "+ Per un salt/inserció (al patró o al text): 2; \n",
    "+ Per una substitució: 1; \n",
    "+ Quan hi ha correspondència: 0.\n",
    "\n",
    "Adapta la funció ``dna`` a aquests costos. La funció no ha de tenir cap tipus d’entrada de part de l’usuari, i la sortida ha d'indicar la línia i distància mínimes per cada patró, i el temps de càlcul en milisegons."
   ]
  },
  {
   "cell_type": "code",
   "execution_count": 4,
   "metadata": {},
   "outputs": [
    {
     "name": "stdout",
     "output_type": "stream",
     "text": [
      "CCCATCTCTTTCTCATTCCTTGGTTGAGAACACGAACTTCAGGACTTGCCTCACACTAGGGCCCATTCTT\n",
      "\n"
     ]
    }
   ],
   "source": [
    "file = open (\"HUMAN-DNA.txt\",\"r\")\n",
    "with open(\"HUMAN-DNA.txt\",\"r\") as file:\n",
    "    linea = file.readlines()\n",
    "    print(linea[0])"
   ]
  },
  {
   "cell_type": "code",
   "execution_count": 2,
   "metadata": {},
   "outputs": [
    {
     "data": {
      "text/plain": [
       "13"
      ]
     },
     "execution_count": 2,
     "metadata": {},
     "output_type": "execute_result"
    }
   ],
   "source": [
    "def levenshtein_distance(first, second):\n",
    "    if len(first) > len(second):\n",
    "        first, second = second, first\n",
    "    if len(second) == 0:\n",
    "        return len(first)\n",
    "    first_length = len(first) + 1\n",
    "    second_length = len(second) + 1 \n",
    "    distance_matrix = [[0] * second_length for x in range(first_length)]\n",
    "    for i in range(first_length):\n",
    "        distance_matrix[i][0] = i\n",
    "    for j in range(second_length):\n",
    "        distance_matrix[0][j] = 0\n",
    "    for i in range(1, first_length):\n",
    "        for j in range(1, second_length):\n",
    "            deletion = distance_matrix[i-1][j] + 2\n",
    "            insertion = distance_matrix[i][j-1] + 2\n",
    "            substitution = distance_matrix[i-1][j-1]\n",
    "            if first[i-1] != second[j-1]:\n",
    "                substitution += 1\n",
    "            distance_matrix[i][j] = min(insertion,deletion,substitution)\n",
    "    \n",
    "    num = distance_matrix[first_length-1][0]\n",
    "    for j in range(second_length):\n",
    "\n",
    "        if num>distance_matrix[first_length-1][j]:\n",
    "            num=distance_matrix[first_length-1][j]\n",
    "\n",
    "\n",
    "            \n",
    "    \n",
    "    return (num)\n",
    "levenshtein_distance(\"TACCGAGAAGCTGGATTACAGCATGTACCATCAT\",\"GCGATCCTCCTACCTCGGCCTCCTGAGAAGCTGAAACTGCATGCACACACCACCACATGGGCTTTTTGTA\")          "
   ]
  },
  {
   "cell_type": "code",
   "execution_count": null,
   "metadata": {},
   "outputs": [],
   "source": [
    "levenInv ()"
   ]
  },
  {
   "cell_type": "code",
   "execution_count": 4,
   "metadata": {},
   "outputs": [
    {
     "name": "stdout",
     "output_type": "stream",
     "text": [
      "AGATACATTAGAACAATAGAGATGTGGTC  Fila: 590  Distancia:  10\n",
      "GTCAGTCTGGCACTTGCCATTGGTGCCACCA  Fila: 236  Distancia:  12\n",
      "TACCGAGAAGCATGGATTACAGCATGTACCATCAT  Fila: 122  Distancia:  14\n",
      "3.3719985485076904\n"
     ]
    }
   ],
   "source": [
    "# Substitueix la comanda pass pel teu codi\n",
    "# Substitueix el resultat per les teves variables, \n",
    "#             pero mantingues el format indicat\n",
    "import time\n",
    "def dna():\n",
    "    start = time.time()\n",
    "    contador = 0\n",
    "    with open (\"HUMAN-DNA.txt\",\"r\") as file:\n",
    "        val1= len(\"AGATACATTAGAACAATAGAGATGTGGTC\")\n",
    "        val2= len(\"GTCAGTCTGGCACTTGCCATTGGTGCCACCA\")\n",
    "        val3= len(\"TACCGAGAAGCATGGATTACAGCATGTACCATCAT\")\n",
    "        for i in file:\n",
    "            contador = contador+1\n",
    "            num1 = levenshtein_distance(\"AGATACATTAGAACAATAGAGATGTGGTC\",i)\n",
    "            num2 = levenshtein_distance(\"GTCAGTCTGGCACTTGCCATTGGTGCCACCA\",i)\n",
    "            num3 = levenshtein_distance(\"TACCGAGAAGCATGGATTACAGCATGTACCATCAT\",i)\n",
    "        \n",
    "                \n",
    "            if num1<val1:\n",
    "                val1 = num1;\n",
    "                fila1 = contador\n",
    "            if num2<val2:\n",
    "                val2 = num2;\n",
    "                fila2 = contador\n",
    "            if num3<val3:\n",
    "                val3 = num3;\n",
    "                fila3 = contador\n",
    "    end = time.time()\n",
    "    print(\"AGATACATTAGAACAATAGAGATGTGGTC  Fila:\",fila1,\" Distancia: \",val1)\n",
    "    print(\"GTCAGTCTGGCACTTGCCATTGGTGCCACCA  Fila:\",fila2,\" Distancia: \",val2)\n",
    "    print(\"TACCGAGAAGCATGGATTACAGCATGTACCATCAT  Fila:\",fila3,\" Distancia: \",val3)\n",
    "    print(end-start)\n",
    "dna()\n",
    "    "
   ]
  },
  {
   "cell_type": "code",
   "execution_count": null,
   "metadata": {},
   "outputs": [],
   "source": [
    "# La solució correcta és aquesta, tot i que el temps pot variar\n",
    "[['AGATACATTAGACAATAGAGATGTGGTC', 32, 11],\n",
    " ['GTCAGTCTGGCCTTGCCATTGGTGCCACCA', 352, 11],\n",
    " ['TACCGAGAAGCTGGATTACAGCATGTACCATCAT', 233, 13],\n",
    " 2.7117291091393665]"
   ]
  },
  {
   "cell_type": "markdown",
   "metadata": {},
   "source": [
    "*Recordatori de teoria*: El càlcul de de la distancia d’un patró al substring més semblant d’un text es pot fer amb l’algorisme de Levenshtein. L’única diferència és que s’ha d’inicialitzar la primera fila amb zeros (=considerar que podem inserir tants espais en blanc al davant del patró com sigui necessari)  i que la distancia d’edició serà el valor mínim de l’última fila de la matriu de costos. També heu de tenir en compte els costos en la inicialització de la primera columna."
   ]
  },
  {
   "cell_type": "markdown",
   "metadata": {},
   "source": [
    "<p style=\"text-align:right;font-size:0.9em\">\n",
    "&copy;Jordi Vitrià i Mireia Ribera\n",
    "</p>"
   ]
  }
 ],
 "metadata": {
  "kernelspec": {
   "display_name": "Python 3",
   "language": "python",
   "name": "python3"
  },
  "language_info": {
   "codemirror_mode": {
    "name": "ipython",
    "version": 3
   },
   "file_extension": ".py",
   "mimetype": "text/x-python",
   "name": "python",
   "nbconvert_exporter": "python",
   "pygments_lexer": "ipython3",
   "version": "3.7.0"
  }
 },
 "nbformat": 4,
 "nbformat_minor": 2
}
