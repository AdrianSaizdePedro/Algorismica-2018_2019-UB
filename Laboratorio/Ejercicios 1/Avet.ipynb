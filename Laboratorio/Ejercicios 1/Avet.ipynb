{
 "cells": [
  {
   "cell_type": "markdown",
   "metadata": {},
   "source": [
    "<p style=\"text-align:right;font-size:0.9em\">\n",
    "Grau d'Enginyeria Informàtica. Algorísmica. \n",
    "</p>"
   ]
  },
  {
   "cell_type": "markdown",
   "metadata": {},
   "source": [
    "<h1 style=\"padding:0.5em 0;font:Garamond;font-size:1-5em;color:#F90;background-color:#005\">\n",
    "Problema: Avet\n",
    "</h1>"
   ]
  },
  {
   "cell_type": "markdown",
   "metadata": {},
   "source": [
    "Donat un enter, dibuixar un avet amb tants asteriscs com el nombre donat en la seva part inferior"
   ]
  },
  {
   "cell_type": "code",
   "execution_count": null,
   "metadata": {},
   "outputs": [],
   "source": [
    "\"\"\" \n",
    "Per exemple: avet(7)\n",
    "\n",
    "Solució:\n",
    "   *\n",
    "  ***\n",
    " *****\n",
    "*******\n",
    "\n",
    "\n",
    "\"\"\""
   ]
  },
  {
   "cell_type": "code",
   "execution_count": 1,
   "metadata": {
    "scrolled": true
   },
   "outputs": [
    {
     "name": "stdout",
     "output_type": "stream",
     "text": [
      "Digame un numero entero: 35\n",
      "                 *\n",
      "                ***\n",
      "               *****\n",
      "              *******\n",
      "             *********\n",
      "            ***********\n",
      "           *************\n",
      "          ***************\n",
      "         *****************\n",
      "        *******************\n",
      "       *********************\n",
      "      ***********************\n",
      "     *************************\n",
      "    ***************************\n",
      "   *****************************\n",
      "  *******************************\n",
      " *********************************\n",
      "***********************************\n"
     ]
    }
   ],
   "source": [
    "def avetpar (x):\n",
    "    for i in range (2,x+1,2):\n",
    "        print ( int((x-i)/2)*\" \" + i*\"*\")\n",
    "        \n",
    "def avetimpar (x):\n",
    "    for i in range (1,x+1,2):\n",
    "        print ( int((x-i)/2)*\" \" + i*\"*\")\n",
    "        \n",
    "def avet(x):\n",
    "    if x%2 == 1 :\n",
    "        avetimpar (x)\n",
    "    else :\n",
    "        avetpar (x)\n",
    "        \n",
    "x = int(input (\"Digame un numero entero: \"))\n",
    "avet (x)\n",
    "    \n",
    " "
   ]
  },
  {
   "cell_type": "markdown",
   "metadata": {},
   "source": [
    "<p style=\"text-align:right;font-size:0.9em\">\n",
    "&copy;Jordi Vitrià i Mireia Ribera\n",
    "</p>"
   ]
  }
 ],
 "metadata": {
  "kernelspec": {
   "display_name": "Python 3",
   "language": "python",
   "name": "python3"
  },
  "language_info": {
   "codemirror_mode": {
    "name": "ipython",
    "version": 3
   },
   "file_extension": ".py",
   "mimetype": "text/x-python",
   "name": "python",
   "nbconvert_exporter": "python",
   "pygments_lexer": "ipython3",
   "version": "3.6.5"
  }
 },
 "nbformat": 4,
 "nbformat_minor": 2
}
