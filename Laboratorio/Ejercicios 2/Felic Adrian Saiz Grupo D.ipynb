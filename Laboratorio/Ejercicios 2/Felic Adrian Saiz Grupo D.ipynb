{
 "cells": [
  {
   "cell_type": "markdown",
   "metadata": {},
   "source": [
    "<p style=\"text-align:right;font-size:0.9em\">\n",
    "Grau d'Enginyeria Informàtica. Algorísmica\n",
    "</p>"
   ]
  },
  {
   "cell_type": "markdown",
   "metadata": {},
   "source": [
    "<h1 style=\"padding:0.5em 0;font:Garamond;font-size:1-5em;color:#F90;background-color:#005\">\n",
    "Problema: Número feliç\n",
    "</h1>"
   ]
  },
  {
   "cell_type": "markdown",
   "metadata": {},
   "source": [
    "Un número, **x**, es diu **feliç** si la suma dels quadrats dels seus dígits (fins que només quedi una xifra), és 1\n",
    "\n",
    "Exemple: \n",
    "\n",
    "- 203: $2^2+0^2+3^2 = 13$\n",
    "- 13: $1^2 +3^2 = 10$\n",
    "- 10: $1^2 +0^2 = 1$ \n",
    "\n",
    "Així doncs 203 és un nombre feliç. (En particular, també ho són el 13 i el 10)\n",
    "\n",
    "\n",
    "Seguint el mateix esquema que l'exercici anterior:\n",
    "\n",
    "1. Comproveu si els nombres: 921, 717, 2039, són nombres feliços\n",
    "2. Quants nombres feliços hi ha fins a 3.000?\n",
    "3. Si el primer nombre feliç és l'1, quin és el nombre feliç número 1234? (Fer servir _while_)\n",
    "4. Hi ha algun número feliç que sigui apocalíptic menor a 1000? Quants? Quins són?"
   ]
  },
  {
   "cell_type": "markdown",
   "metadata": {},
   "source": [
    "1. Comproveu si els nombres: 921, 717, 2039, són nombres feliços"
   ]
  },
  {
   "cell_type": "code",
   "execution_count": 20,
   "metadata": {},
   "outputs": [],
   "source": [
    "def feliz(n):\n",
    "    lista = []\n",
    "    while True:\n",
    "        numero = str(n)\n",
    "        x = 0\n",
    "        for i in numero:\n",
    "            x = x + (int(i)**2)\n",
    "        if x==1:\n",
    "            return True\n",
    "        elif x in lista:\n",
    "            return False\n",
    "        lista.append(x)\n",
    "        n = x"
   ]
  },
  {
   "cell_type": "code",
   "execution_count": 22,
   "metadata": {},
   "outputs": [
    {
     "data": {
      "text/plain": [
       "True"
      ]
     },
     "execution_count": 22,
     "metadata": {},
     "output_type": "execute_result"
    }
   ],
   "source": [
    "feliz(921)"
   ]
  },
  {
   "cell_type": "code",
   "execution_count": 23,
   "metadata": {},
   "outputs": [
    {
     "data": {
      "text/plain": [
       "False"
      ]
     },
     "execution_count": 23,
     "metadata": {},
     "output_type": "execute_result"
    }
   ],
   "source": [
    "feliz(717)"
   ]
  },
  {
   "cell_type": "code",
   "execution_count": 24,
   "metadata": {},
   "outputs": [
    {
     "data": {
      "text/plain": [
       "True"
      ]
     },
     "execution_count": 24,
     "metadata": {},
     "output_type": "execute_result"
    }
   ],
   "source": [
    "feliz(2039)"
   ]
  },
  {
   "cell_type": "markdown",
   "metadata": {},
   "source": [
    "2. Quants nombres feliços hi ha fins a 3.000?"
   ]
  },
  {
   "cell_type": "code",
   "execution_count": 74,
   "metadata": {},
   "outputs": [
    {
     "name": "stdout",
     "output_type": "stream",
     "text": [
      "1234\n"
     ]
    }
   ],
   "source": [
    "contador = 0\n",
    "for n in range (1,8456):\n",
    "    lista = []\n",
    "    loop = True\n",
    "    m = n\n",
    "    while loop:\n",
    "        numero = str(m)\n",
    "        x = 0\n",
    "        for i in numero:\n",
    "             x = x + (int(i)**2)\n",
    "        if x==1:\n",
    "            contador = contador + 1\n",
    "            loop = False\n",
    "        elif x in lista:\n",
    "            loop=False\n",
    "        lista.append(x)\n",
    "        m = x\n",
    "print (contador)"
   ]
  },
  {
   "cell_type": "markdown",
   "metadata": {},
   "source": [
    "3. Si el primer nombre feliç és l'1, quin és el nombre feliç número 1234? (Fer servir _while_)"
   ]
  },
  {
   "cell_type": "code",
   "execution_count": 72,
   "metadata": {},
   "outputs": [
    {
     "name": "stdout",
     "output_type": "stream",
     "text": [
      "El numero feliz numero 1234 es el 8455\n"
     ]
    }
   ],
   "source": [
    "contador = 0\n",
    "for n in range (1,10000):\n",
    "    lista = []\n",
    "    loop = True\n",
    "    m = n\n",
    "    while loop:\n",
    "        numero = str(m)\n",
    "        x = 0\n",
    "        for i in numero:\n",
    "             x = x + (int(i)**2)\n",
    "        if x==1:\n",
    "            contador = contador + 1\n",
    "            loop = False\n",
    "            if contador==1234 :\n",
    "                contador1234 = n\n",
    "        elif x in lista:\n",
    "            loop=False\n",
    "        lista.append(x)\n",
    "        m = x\n",
    "print (\"El numero feliz numero 1234 es el\" ,contador1234)"
   ]
  },
  {
   "cell_type": "markdown",
   "metadata": {},
   "source": [
    "4. Hi ha algun número feliç que sigui apocalíptic menor a 1000? Quants? Quins són?"
   ]
  },
  {
   "cell_type": "code",
   "execution_count": 17,
   "metadata": {},
   "outputs": [
    {
     "name": "stdout",
     "output_type": "stream",
     "text": [
      "Hay un total de  13 numeros felices y apocalipticos\n",
      "Estos numeros son los siguientes:  [192, 226, 478, 635, 649, 671, 700, 748, 820, 836, 931, 937, 970]\n"
     ]
    }
   ],
   "source": [
    "listafeliz = []\n",
    "for n in range (1,1000):\n",
    "    lista = []\n",
    "    loop = True\n",
    "    m = n\n",
    "    while loop:\n",
    "        numero = str(m)\n",
    "        x = 0\n",
    "        for i in numero:\n",
    "             x = x + (int(i)**2)\n",
    "        if x==1:\n",
    "            listafeliz.append(n)\n",
    "            loop = False\n",
    "            \n",
    "        elif x in lista:\n",
    "            loop=False\n",
    "        lista.append(x)\n",
    "        m = x\n",
    "        \n",
    "        \n",
    "listaapocaliptica = []\n",
    "for n in range (1,1000):\n",
    "    x = str(2**n)\n",
    "    if ('666' in x):\n",
    "        listaapocaliptica.append(n)\n",
    "\n",
    "    \n",
    "res = list(set(listafeliz) & set(listaapocaliptica))\n",
    "res.sort()\n",
    "\n",
    "\n",
    "print (\"Hay un total de \", len(res), \"numeros felices y apocalipticos\")\n",
    "print (\"Estos numeros son los siguientes: \", res)\n"
   ]
  },
  {
   "cell_type": "markdown",
   "metadata": {},
   "source": [
    "## Referències\n",
    "\n",
    "Els enunciats d'aquests problemes estan extrets de https://www.gaussianos.com/tipos-de-numeros/ i la selecció de problemes esta feta per Pere Gilabert, auxiliar docent del curs 2017-2018."
   ]
  },
  {
   "cell_type": "markdown",
   "metadata": {},
   "source": [
    "<p style=\"text-align:right;font-size:0.9em\">\n",
    "&copy;Jordi Vitrià i Mireia Ribera\n",
    "</p>"
   ]
  }
 ],
 "metadata": {
  "kernelspec": {
   "display_name": "Python 3",
   "language": "python",
   "name": "python3"
  },
  "language_info": {
   "codemirror_mode": {
    "name": "ipython",
    "version": 3
   },
   "file_extension": ".py",
   "mimetype": "text/x-python",
   "name": "python",
   "nbconvert_exporter": "python",
   "pygments_lexer": "ipython3",
   "version": "3.6.5"
  }
 },
 "nbformat": 4,
 "nbformat_minor": 2
}
