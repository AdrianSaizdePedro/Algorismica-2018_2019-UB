{
 "cells": [
  {
   "cell_type": "markdown",
   "metadata": {},
   "source": [
    "<p style=\"text-align:right;font-size:0.9em\">\n",
    "Grau d'Enginyeria Informàtica. Algorísmica\n",
    "</p>"
   ]
  },
  {
   "cell_type": "markdown",
   "metadata": {},
   "source": [
    "<h1 style=\"padding:0.5em 0;font:Garamond;font-size:1-5em;color:#F90;background-color:#005\">\n",
    "Problema: Factorial menor que un nombre donat\n",
    "</h1>"
   ]
  },
  {
   "cell_type": "markdown",
   "metadata": {},
   "source": [
    "Escriu una funció, factmenor, que imprimeixi tots els valors menors que el nombre 999999999999999999999999 i que són factorials d’algun nombre natural."
   ]
  },
  {
   "cell_type": "code",
   "execution_count": 54,
   "metadata": {},
   "outputs": [],
   "source": [
    "# Substitueix la comanda pass per la teva solució\n",
    "\n",
    "def factmenor():\n",
    "    \"\"\"\n",
    "    Aquest programa mostra tots els factorials \n",
    "    menors que 999999999999999999999999\n",
    "    :param cap\n",
    "    :return res\n",
    "    \"\"\"\n",
    "    num=1\n",
    "    i=1\n",
    "    while i<999999999999999999999999:\n",
    "        fact=1\n",
    "        for s in range (1,num+1) :\n",
    "            fact = fact * s\n",
    "        i=fact \n",
    "        num=num+1\n",
    "        print (fact)\n",
    "       "
   ]
  },
  {
   "cell_type": "code",
   "execution_count": 56,
   "metadata": {},
   "outputs": [
    {
     "name": "stdout",
     "output_type": "stream",
     "text": [
      "1\n",
      "2\n",
      "6\n",
      "24\n",
      "120\n",
      "720\n",
      "5040\n",
      "40320\n",
      "362880\n",
      "3628800\n",
      "39916800\n",
      "479001600\n",
      "6227020800\n",
      "87178291200\n",
      "1307674368000\n",
      "20922789888000\n",
      "355687428096000\n",
      "6402373705728000\n",
      "121645100408832000\n",
      "2432902008176640000\n",
      "51090942171709440000\n",
      "1124000727777607680000\n",
      "25852016738884976640000\n",
      "620448401733239439360000\n",
      "15511210043330985984000000\n"
     ]
    }
   ],
   "source": [
    "# Test de la funció\n",
    "\n",
    "factmenor()"
   ]
  },
  {
   "cell_type": "markdown",
   "metadata": {},
   "source": [
    "<p style=\"text-align:right;font-size:0.9em\">\n",
    "&copy;Jordi Vitrià i Mireia Ribera\n",
    "</p>"
   ]
  }
 ],
 "metadata": {
  "kernelspec": {
   "display_name": "Python 3",
   "language": "python",
   "name": "python3"
  },
  "language_info": {
   "codemirror_mode": {
    "name": "ipython",
    "version": 3
   },
   "file_extension": ".py",
   "mimetype": "text/x-python",
   "name": "python",
   "nbconvert_exporter": "python",
   "pygments_lexer": "ipython3",
   "version": "3.6.5"
  }
 },
 "nbformat": 4,
 "nbformat_minor": 2
}
