{
 "cells": [
  {
   "cell_type": "markdown",
   "metadata": {},
   "source": [
    "<p style=\"text-align:right;font-size:0.9em\">\n",
    "Grau d'Enginyeria Informàtica. Algorísmica\n",
    "</p>"
   ]
  },
  {
   "cell_type": "markdown",
   "metadata": {},
   "source": [
    "<h1 style=\"padding:0.5em 0;font:Garamond;font-size:1-5em;color:#F90;background-color:#005\">\n",
    "Problema: Calculadora\n",
    "</h1>"
   ]
  },
  {
   "cell_type": "markdown",
   "metadata": {},
   "source": [
    "Creeu una funció anomenada `calculadora` que permeti fer operacions de suma, resta i multiplicació amb nombres naturals a partir d'una entrada que sigui `string`. L'usuari anirà entrant les operacions, i quan vulgui acabar farà `<Enter>`\n",
    "Exemple de funcionament:\n",
    "\n",
    "**Calculadora**\n",
    "\n",
    "     Entra operació: 4+5\n",
    "     9\n",
    "     Entra operació: 7-2\n",
    "     5\n",
    "     Entra operació: 1*4"
   ]
  },
  {
   "cell_type": "markdown",
   "metadata": {},
   "source": [
    "**Pregunta 1**: Quin tipus d'iteració cal per anar demanant dades a l'usuari? "
   ]
  },
  {
   "cell_type": "markdown",
   "metadata": {},
   "source": [
    "Existe la iteracción de \"input\" la cual permite al usuario introducir caracteres por medio del teclado y hasta que este no de al Enter no se enviará."
   ]
  },
  {
   "cell_type": "markdown",
   "metadata": {},
   "source": [
    "**Pregunta 2**: Pensa en la descomposició de funcions. Creus que la funció `calculadora` es pot descomposar en altres? En quines?"
   ]
  },
  {
   "cell_type": "markdown",
   "metadata": {},
   "source": [
    "Si, creo que se puede descomponer en otras, concretamente, creo que se podria descomponer en una funcion suma, otra funcion resta y otra funcion multiplicación"
   ]
  },
  {
   "cell_type": "markdown",
   "metadata": {},
   "source": [
    "**Pregunta 3**: Escriu el codi de la funció."
   ]
  },
  {
   "cell_type": "code",
   "execution_count": 5,
   "metadata": {},
   "outputs": [
    {
     "name": "stdout",
     "output_type": "stream",
     "text": [
      "¿Que operación desea hacer?5 + 4\n",
      "La respuesta es  9\n"
     ]
    }
   ],
   "source": [
    "# Inserir aquí les respostes\n",
    "def calculadora () :\n",
    "    entrada = eval(input (\"¿Que operación desea hacer?\"))\n",
    "    print (\"La respuesta es \", entrada)\n",
    "\n",
    "    \n",
    "calculadora ()"
   ]
  },
  {
   "cell_type": "markdown",
   "metadata": {},
   "source": [
    "<p style=\"text-align:right;font-size:0.9em\">\n",
    "&copy;Jordi Vitrià i Mireia Ribera\n",
    "</p>"
   ]
  }
 ],
 "metadata": {
  "kernelspec": {
   "display_name": "Python 3",
   "language": "python",
   "name": "python3"
  },
  "language_info": {
   "codemirror_mode": {
    "name": "ipython",
    "version": 3
   },
   "file_extension": ".py",
   "mimetype": "text/x-python",
   "name": "python",
   "nbconvert_exporter": "python",
   "pygments_lexer": "ipython3",
   "version": "3.6.5"
  }
 },
 "nbformat": 4,
 "nbformat_minor": 2
}
