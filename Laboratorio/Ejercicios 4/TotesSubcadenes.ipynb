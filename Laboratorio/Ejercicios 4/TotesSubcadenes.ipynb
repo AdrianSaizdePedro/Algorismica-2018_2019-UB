{
 "cells": [
  {
   "cell_type": "markdown",
   "metadata": {},
   "source": [
    "<p style=\"text-align:right;font-size:0.9em\">\n",
    "Grau d'Enginyeria Informàtica. Algorísmica. Curs 2017-2018\n",
    "</p>"
   ]
  },
  {
   "cell_type": "markdown",
   "metadata": {},
   "source": [
    "<h1 style=\"padding:0.5em 0;font:Garamond;font-size:1-5em;color:#F90;background-color:#005\">\n",
    "Problema: Totes les subcadenes\n",
    "</h1>"
   ]
  },
  {
   "cell_type": "markdown",
   "metadata": {},
   "source": [
    "<p style=\"font-family:Arial;font-size:1em\">\n",
    "Fes un programa que retorni una llista (calculada amb una *comprehension*) amb tots els substrings d'un string.\n",
    "</p>"
   ]
  },
  {
   "cell_type": "code",
   "execution_count": 58,
   "metadata": {},
   "outputs": [
    {
     "name": "stdout",
     "output_type": "stream",
     "text": [
      "('s', 'so', 'sou', 'souf', 'soufg', 'soufgh', 'soufghv', 'soufghve', 'soufghvew', 'o', 'ou', 'ouf', 'oufg', 'oufgh', 'oufghv', 'oufghve', 'oufghvew', 'u', 'uf', 'ufg', 'ufgh', 'ufghv', 'ufghve', 'ufghvew', 'f', 'fg', 'fgh', 'fghv', 'fghve', 'fghvew', 'g', 'gh', 'ghv', 'ghve', 'ghvew', 'h', 'hv', 'hve', 'hvew', 'v', 've', 'vew', 'e', 'ew', 'w')\n",
      "Hay un total de  45 combinaciones\n"
     ]
    }
   ],
   "source": [
    "def get_all_substrings(palabra):\n",
    "    x = len (palabra)\n",
    "    llista = []\n",
    "\n",
    "    for i in range (0,x):\n",
    "        for e in range (0,x):\n",
    "            if ((i+e)<x):\n",
    "                llista.append(palabra[i:i+e+1])\n",
    "    t = tuple(llista)\n",
    "    print (t)\n",
    "    print (\"Hay un total de \", len(t),\"combinaciones\")\n",
    "\n",
    "get_all_substrings(\"soufghvew\")"
   ]
  },
  {
   "cell_type": "markdown",
   "metadata": {},
   "source": [
    "<h2 style=\"padding:0.5em 0;font:Garamond;font-size:1.2em;color:#FA0;background-color:#005\">\n",
    "Pregunta 1: Quines són totes les subcadenes de \"casa\"?\n",
    "</h2>"
   ]
  },
  {
   "cell_type": "markdown",
   "metadata": {},
   "source": [
    "Escriu aquí la teva solució\n",
    "\n"
   ]
  },
  {
   "cell_type": "code",
   "execution_count": 57,
   "metadata": {},
   "outputs": [
    {
     "name": "stdout",
     "output_type": "stream",
     "text": [
      "('c', 'ca', 'cas', 'casa', 'a', 'as', 'asa', 's', 'sa', 'a')\n",
      "Hay un total de  10 combinaciones\n"
     ]
    }
   ],
   "source": [
    "get_all_substrings(\"casa\")"
   ]
  },
  {
   "cell_type": "markdown",
   "metadata": {},
   "source": [
    "<p style=\"text-align:right;font-size:0.9em\">\n",
    "&copy;Jordi Vitrià i Mireia Ribera\n",
    "</p>"
   ]
  }
 ],
 "metadata": {
  "kernelspec": {
   "display_name": "Python 3",
   "language": "python",
   "name": "python3"
  },
  "language_info": {
   "codemirror_mode": {
    "name": "ipython",
    "version": 3
   },
   "file_extension": ".py",
   "mimetype": "text/x-python",
   "name": "python",
   "nbconvert_exporter": "python",
   "pygments_lexer": "ipython3",
   "version": "3.6.5"
  }
 },
 "nbformat": 4,
 "nbformat_minor": 2
}
