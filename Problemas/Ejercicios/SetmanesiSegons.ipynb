{
 "cells": [
  {
   "cell_type": "markdown",
   "metadata": {},
   "source": [
    "<p style=\"text-align:right;font-size:0.9em\">\n",
    "Grau d'Enginyeria Informàtica. Algorísmica\n",
    "</p>"
   ]
  },
  {
   "cell_type": "markdown",
   "metadata": {},
   "source": [
    "<h1 style=\"padding:0.5em 0;font:Garamond;font-size:1-5em;color:#F90;background-color:#005\">\n",
    "Problema: Setmanes i segons\n",
    "</h1>"
   ]
  },
  {
   "cell_type": "markdown",
   "metadata": {},
   "source": [
    "Fes una funció que trobi un nombre de setmanes $n$ que tinguin un nombre de segons $s$ tal que $s = k!$ per algun $k$\n",
    " \n",
    "Pots fer servir la funció math.factorial(x), que calcula el factorial de x, com podeu veure en l'exemple següent."
   ]
  },
  {
   "cell_type": "code",
   "execution_count": 9,
   "metadata": {},
   "outputs": [
    {
     "name": "stdout",
     "output_type": "stream",
     "text": [
      "93326215443944152681699238856266700490715968264381621468592963895217599993229915608941463976156518286253697920827223758251185210916864000000000000000000000000\n"
     ]
    }
   ],
   "source": [
    "import math\n",
    "print(math.factorial(100))"
   ]
  },
  {
   "cell_type": "code",
   "execution_count": 18,
   "metadata": {},
   "outputs": [
    {
     "name": "stdout",
     "output_type": "stream",
     "text": [
      "6\n"
     ]
    }
   ],
   "source": [
    "import math\n",
    "def factorial():\n",
    "    llista = []\n",
    "    for i in range (1,101):\n",
    "        llista.append(math.factorial(i))\n",
    "    return llista\n",
    "\n",
    "def semanas(n,llista):\n",
    "    s = n*7*24*60*60\n",
    "    if (s in llista):\n",
    "        return n\n",
    "    else:\n",
    "        return 0\n",
    "    \n",
    "\n",
    "def factorialsemanas():\n",
    "    lfact = factorial()\n",
    "    n = 0\n",
    "    trobat = False\n",
    "    while (not(trobat)):\n",
    "        n+=1\n",
    "        trobat = (semanas(n,lfact)!=0)\n",
    "        \n",
    "    print (n)\n",
    "    \n",
    "factorialsemanas()\n",
    "    "
   ]
  },
  {
   "cell_type": "code",
   "execution_count": 14,
   "metadata": {},
   "outputs": [
    {
     "name": "stdout",
     "output_type": "stream",
     "text": [
      "[3628800]\n"
     ]
    }
   ],
   "source": [
    "import math\n",
    "def x():\n",
    "    s = 604800\n",
    "    n=1\n",
    "    llista1 = []\n",
    "    llista2 = []\n",
    "    comparacion = []\n",
    "    for i in range (1,101):\n",
    "        llista1.append(math.factorial(i))\n",
    "    \n",
    "    while (llista1[-1]>s):\n",
    "        llista2.append(s)\n",
    "        n+=1\n",
    "        s = n * s\n",
    "\n",
    "    for item in llista1:\n",
    "        if item in llista2:\n",
    "            comparacion.append(item)\n",
    "    print(comparacion)\n",
    "        \n",
    "x()\n",
    "        "
   ]
  },
  {
   "cell_type": "code",
   "execution_count": 19,
   "metadata": {},
   "outputs": [
    {
     "data": {
      "text/plain": [
       "6"
      ]
     },
     "execution_count": 19,
     "metadata": {},
     "output_type": "execute_result"
    }
   ],
   "source": [
    "import math\n",
    "def setm():\n",
    "    segons = 3600*24*7\n",
    "    k=1\n",
    "    x=1\n",
    "    while x%segons !=0:\n",
    "        x=math.factorial(k)\n",
    "        k+=1\n",
    "    return x//segons\n",
    "\n",
    "setm()"
   ]
  },
  {
   "cell_type": "markdown",
   "metadata": {},
   "source": [
    "<p style=\"text-align:right;font-size:0.9em\">\n",
    "&copy;Jordi Vitrià i Mireia Ribera\n",
    "</p>"
   ]
  }
 ],
 "metadata": {
  "kernelspec": {
   "display_name": "Python 3",
   "language": "python",
   "name": "python3"
  },
  "language_info": {
   "codemirror_mode": {
    "name": "ipython",
    "version": 3
   },
   "file_extension": ".py",
   "mimetype": "text/x-python",
   "name": "python",
   "nbconvert_exporter": "python",
   "pygments_lexer": "ipython3",
   "version": "3.7.0"
  }
 },
 "nbformat": 4,
 "nbformat_minor": 2
}
